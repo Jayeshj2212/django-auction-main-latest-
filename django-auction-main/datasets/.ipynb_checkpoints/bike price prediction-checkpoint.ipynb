{
 "cells": [
  {
   "cell_type": "markdown",
   "id": "d1dcf66a",
   "metadata": {},
   "source": [
    "# predicting bike prices"
   ]
  },
  {
   "cell_type": "code",
   "execution_count": 1,
   "id": "88680120",
   "metadata": {},
   "outputs": [],
   "source": [
    "import datetime\n",
    "\n",
    "import numpy as np\n",
    "import pandas as pd\n",
    "\n",
    "import matplotlib.pyplot as plt\n",
    "import seaborn as sns\n",
    "%matplotlib inline\n",
    "\n",
    "from sklearn.model_selection import train_test_split\n",
    "from sklearn.linear_model import LinearRegression\n",
    "from sklearn.ensemble import RandomForestRegressor\n",
    "from sklearn.preprocessing import StandardScaler\n",
    "from sklearn.metrics import r2_score"
   ]
  },
  {
   "cell_type": "markdown",
   "id": "c4f85bad",
   "metadata": {},
   "source": [
    "## Read dataset\n",
    "\n",
    "I'll read the dataset and get information about it."
   ]
  },
  {
   "cell_type": "code",
   "execution_count": 2,
   "id": "aa8dcb50",
   "metadata": {},
   "outputs": [],
   "source": [
    "dataset = pd.read_csv('BIKE DETAILS.csv')"
   ]
  },
  {
   "cell_type": "code",
   "execution_count": 3,
   "id": "d629c263",
   "metadata": {},
   "outputs": [
    {
     "data": {
      "text/html": [
       "<div>\n",
       "<style scoped>\n",
       "    .dataframe tbody tr th:only-of-type {\n",
       "        vertical-align: middle;\n",
       "    }\n",
       "\n",
       "    .dataframe tbody tr th {\n",
       "        vertical-align: top;\n",
       "    }\n",
       "\n",
       "    .dataframe thead th {\n",
       "        text-align: right;\n",
       "    }\n",
       "</style>\n",
       "<table border=\"1\" class=\"dataframe\">\n",
       "  <thead>\n",
       "    <tr style=\"text-align: right;\">\n",
       "      <th></th>\n",
       "      <th>name</th>\n",
       "      <th>selling_price</th>\n",
       "      <th>year</th>\n",
       "      <th>seller_type</th>\n",
       "      <th>owner</th>\n",
       "      <th>km_driven</th>\n",
       "      <th>ex_showroom_price</th>\n",
       "    </tr>\n",
       "  </thead>\n",
       "  <tbody>\n",
       "    <tr>\n",
       "      <th>0</th>\n",
       "      <td>Royal Enfield Classic 350</td>\n",
       "      <td>175000</td>\n",
       "      <td>2019</td>\n",
       "      <td>Individual</td>\n",
       "      <td>1st owner</td>\n",
       "      <td>350</td>\n",
       "      <td>NaN</td>\n",
       "    </tr>\n",
       "    <tr>\n",
       "      <th>1</th>\n",
       "      <td>Honda Dio</td>\n",
       "      <td>45000</td>\n",
       "      <td>2017</td>\n",
       "      <td>Individual</td>\n",
       "      <td>1st owner</td>\n",
       "      <td>5650</td>\n",
       "      <td>NaN</td>\n",
       "    </tr>\n",
       "    <tr>\n",
       "      <th>2</th>\n",
       "      <td>Royal Enfield Classic Gunmetal Grey</td>\n",
       "      <td>150000</td>\n",
       "      <td>2018</td>\n",
       "      <td>Individual</td>\n",
       "      <td>1st owner</td>\n",
       "      <td>12000</td>\n",
       "      <td>148114.0</td>\n",
       "    </tr>\n",
       "    <tr>\n",
       "      <th>3</th>\n",
       "      <td>Yamaha Fazer FI V 2.0 [2016-2018]</td>\n",
       "      <td>65000</td>\n",
       "      <td>2015</td>\n",
       "      <td>Individual</td>\n",
       "      <td>1st owner</td>\n",
       "      <td>23000</td>\n",
       "      <td>89643.0</td>\n",
       "    </tr>\n",
       "    <tr>\n",
       "      <th>4</th>\n",
       "      <td>Yamaha SZ [2013-2014]</td>\n",
       "      <td>20000</td>\n",
       "      <td>2011</td>\n",
       "      <td>Individual</td>\n",
       "      <td>2nd owner</td>\n",
       "      <td>21000</td>\n",
       "      <td>NaN</td>\n",
       "    </tr>\n",
       "  </tbody>\n",
       "</table>\n",
       "</div>"
      ],
      "text/plain": [
       "                                  name  selling_price  year seller_type  \\\n",
       "0            Royal Enfield Classic 350         175000  2019  Individual   \n",
       "1                            Honda Dio          45000  2017  Individual   \n",
       "2  Royal Enfield Classic Gunmetal Grey         150000  2018  Individual   \n",
       "3    Yamaha Fazer FI V 2.0 [2016-2018]          65000  2015  Individual   \n",
       "4                Yamaha SZ [2013-2014]          20000  2011  Individual   \n",
       "\n",
       "       owner  km_driven  ex_showroom_price  \n",
       "0  1st owner        350                NaN  \n",
       "1  1st owner       5650                NaN  \n",
       "2  1st owner      12000           148114.0  \n",
       "3  1st owner      23000            89643.0  \n",
       "4  2nd owner      21000                NaN  "
      ]
     },
     "execution_count": 3,
     "metadata": {},
     "output_type": "execute_result"
    }
   ],
   "source": [
    "dataset.head()"
   ]
  },
  {
   "cell_type": "code",
   "execution_count": 4,
   "id": "930e1a4a",
   "metadata": {},
   "outputs": [],
   "source": [
    "dataset = pd.DataFrame(dataset,columns=['name','year','seller_type\towner','km_driven','ex_showroom_price','selling_price'])"
   ]
  },
  {
   "cell_type": "code",
   "execution_count": 5,
   "id": "f97116fa",
   "metadata": {},
   "outputs": [
    {
     "data": {
      "text/html": [
       "<div>\n",
       "<style scoped>\n",
       "    .dataframe tbody tr th:only-of-type {\n",
       "        vertical-align: middle;\n",
       "    }\n",
       "\n",
       "    .dataframe tbody tr th {\n",
       "        vertical-align: top;\n",
       "    }\n",
       "\n",
       "    .dataframe thead th {\n",
       "        text-align: right;\n",
       "    }\n",
       "</style>\n",
       "<table border=\"1\" class=\"dataframe\">\n",
       "  <thead>\n",
       "    <tr style=\"text-align: right;\">\n",
       "      <th></th>\n",
       "      <th>name</th>\n",
       "      <th>year</th>\n",
       "      <th>seller_type\\towner</th>\n",
       "      <th>km_driven</th>\n",
       "      <th>ex_showroom_price</th>\n",
       "      <th>selling_price</th>\n",
       "    </tr>\n",
       "  </thead>\n",
       "  <tbody>\n",
       "    <tr>\n",
       "      <th>0</th>\n",
       "      <td>Royal Enfield Classic 350</td>\n",
       "      <td>2019</td>\n",
       "      <td>NaN</td>\n",
       "      <td>350</td>\n",
       "      <td>NaN</td>\n",
       "      <td>175000</td>\n",
       "    </tr>\n",
       "    <tr>\n",
       "      <th>1</th>\n",
       "      <td>Honda Dio</td>\n",
       "      <td>2017</td>\n",
       "      <td>NaN</td>\n",
       "      <td>5650</td>\n",
       "      <td>NaN</td>\n",
       "      <td>45000</td>\n",
       "    </tr>\n",
       "    <tr>\n",
       "      <th>2</th>\n",
       "      <td>Royal Enfield Classic Gunmetal Grey</td>\n",
       "      <td>2018</td>\n",
       "      <td>NaN</td>\n",
       "      <td>12000</td>\n",
       "      <td>148114.0</td>\n",
       "      <td>150000</td>\n",
       "    </tr>\n",
       "    <tr>\n",
       "      <th>3</th>\n",
       "      <td>Yamaha Fazer FI V 2.0 [2016-2018]</td>\n",
       "      <td>2015</td>\n",
       "      <td>NaN</td>\n",
       "      <td>23000</td>\n",
       "      <td>89643.0</td>\n",
       "      <td>65000</td>\n",
       "    </tr>\n",
       "    <tr>\n",
       "      <th>4</th>\n",
       "      <td>Yamaha SZ [2013-2014]</td>\n",
       "      <td>2011</td>\n",
       "      <td>NaN</td>\n",
       "      <td>21000</td>\n",
       "      <td>NaN</td>\n",
       "      <td>20000</td>\n",
       "    </tr>\n",
       "  </tbody>\n",
       "</table>\n",
       "</div>"
      ],
      "text/plain": [
       "                                  name  year  seller_type\\towner  km_driven  \\\n",
       "0            Royal Enfield Classic 350  2019                 NaN        350   \n",
       "1                            Honda Dio  2017                 NaN       5650   \n",
       "2  Royal Enfield Classic Gunmetal Grey  2018                 NaN      12000   \n",
       "3    Yamaha Fazer FI V 2.0 [2016-2018]  2015                 NaN      23000   \n",
       "4                Yamaha SZ [2013-2014]  2011                 NaN      21000   \n",
       "\n",
       "   ex_showroom_price  selling_price  \n",
       "0                NaN         175000  \n",
       "1                NaN          45000  \n",
       "2           148114.0         150000  \n",
       "3            89643.0          65000  \n",
       "4                NaN          20000  "
      ]
     },
     "execution_count": 5,
     "metadata": {},
     "output_type": "execute_result"
    }
   ],
   "source": [
    "dataset.head(5)"
   ]
  },
  {
   "cell_type": "code",
   "execution_count": 6,
   "id": "f745748f",
   "metadata": {},
   "outputs": [
    {
     "data": {
      "text/plain": [
       "(1061, 6)"
      ]
     },
     "execution_count": 6,
     "metadata": {},
     "output_type": "execute_result"
    }
   ],
   "source": [
    "dataset.shape"
   ]
  },
  {
   "cell_type": "code",
   "execution_count": 7,
   "id": "fd0550df",
   "metadata": {},
   "outputs": [
    {
     "data": {
      "text/html": [
       "<div>\n",
       "<style scoped>\n",
       "    .dataframe tbody tr th:only-of-type {\n",
       "        vertical-align: middle;\n",
       "    }\n",
       "\n",
       "    .dataframe tbody tr th {\n",
       "        vertical-align: top;\n",
       "    }\n",
       "\n",
       "    .dataframe thead th {\n",
       "        text-align: right;\n",
       "    }\n",
       "</style>\n",
       "<table border=\"1\" class=\"dataframe\">\n",
       "  <thead>\n",
       "    <tr style=\"text-align: right;\">\n",
       "      <th></th>\n",
       "      <th>year</th>\n",
       "      <th>seller_type\\towner</th>\n",
       "      <th>km_driven</th>\n",
       "      <th>ex_showroom_price</th>\n",
       "      <th>selling_price</th>\n",
       "    </tr>\n",
       "  </thead>\n",
       "  <tbody>\n",
       "    <tr>\n",
       "      <th>count</th>\n",
       "      <td>1061.000000</td>\n",
       "      <td>0.0</td>\n",
       "      <td>1061.000000</td>\n",
       "      <td>6.260000e+02</td>\n",
       "      <td>1061.000000</td>\n",
       "    </tr>\n",
       "    <tr>\n",
       "      <th>mean</th>\n",
       "      <td>2013.867107</td>\n",
       "      <td>NaN</td>\n",
       "      <td>34359.833176</td>\n",
       "      <td>8.795871e+04</td>\n",
       "      <td>59638.151744</td>\n",
       "    </tr>\n",
       "    <tr>\n",
       "      <th>std</th>\n",
       "      <td>4.301191</td>\n",
       "      <td>NaN</td>\n",
       "      <td>51623.152702</td>\n",
       "      <td>7.749659e+04</td>\n",
       "      <td>56304.291973</td>\n",
       "    </tr>\n",
       "    <tr>\n",
       "      <th>min</th>\n",
       "      <td>1988.000000</td>\n",
       "      <td>NaN</td>\n",
       "      <td>350.000000</td>\n",
       "      <td>3.049000e+04</td>\n",
       "      <td>5000.000000</td>\n",
       "    </tr>\n",
       "    <tr>\n",
       "      <th>25%</th>\n",
       "      <td>2011.000000</td>\n",
       "      <td>NaN</td>\n",
       "      <td>13500.000000</td>\n",
       "      <td>5.485200e+04</td>\n",
       "      <td>28000.000000</td>\n",
       "    </tr>\n",
       "    <tr>\n",
       "      <th>50%</th>\n",
       "      <td>2015.000000</td>\n",
       "      <td>NaN</td>\n",
       "      <td>25000.000000</td>\n",
       "      <td>7.275250e+04</td>\n",
       "      <td>45000.000000</td>\n",
       "    </tr>\n",
       "    <tr>\n",
       "      <th>75%</th>\n",
       "      <td>2017.000000</td>\n",
       "      <td>NaN</td>\n",
       "      <td>43000.000000</td>\n",
       "      <td>8.703150e+04</td>\n",
       "      <td>70000.000000</td>\n",
       "    </tr>\n",
       "    <tr>\n",
       "      <th>max</th>\n",
       "      <td>2020.000000</td>\n",
       "      <td>NaN</td>\n",
       "      <td>880000.000000</td>\n",
       "      <td>1.278000e+06</td>\n",
       "      <td>760000.000000</td>\n",
       "    </tr>\n",
       "  </tbody>\n",
       "</table>\n",
       "</div>"
      ],
      "text/plain": [
       "              year  seller_type\\towner      km_driven  ex_showroom_price  \\\n",
       "count  1061.000000                 0.0    1061.000000       6.260000e+02   \n",
       "mean   2013.867107                 NaN   34359.833176       8.795871e+04   \n",
       "std       4.301191                 NaN   51623.152702       7.749659e+04   \n",
       "min    1988.000000                 NaN     350.000000       3.049000e+04   \n",
       "25%    2011.000000                 NaN   13500.000000       5.485200e+04   \n",
       "50%    2015.000000                 NaN   25000.000000       7.275250e+04   \n",
       "75%    2017.000000                 NaN   43000.000000       8.703150e+04   \n",
       "max    2020.000000                 NaN  880000.000000       1.278000e+06   \n",
       "\n",
       "       selling_price  \n",
       "count    1061.000000  \n",
       "mean    59638.151744  \n",
       "std     56304.291973  \n",
       "min      5000.000000  \n",
       "25%     28000.000000  \n",
       "50%     45000.000000  \n",
       "75%     70000.000000  \n",
       "max    760000.000000  "
      ]
     },
     "execution_count": 7,
     "metadata": {},
     "output_type": "execute_result"
    }
   ],
   "source": [
    "dataset.describe()"
   ]
  },
  {
   "cell_type": "code",
   "execution_count": 8,
   "id": "9265e4d4",
   "metadata": {},
   "outputs": [
    {
     "data": {
      "text/plain": [
       "0       175000\n",
       "1        45000\n",
       "2       150000\n",
       "3        65000\n",
       "4        20000\n",
       "         ...  \n",
       "1056     17000\n",
       "1057     16000\n",
       "1058     15000\n",
       "1059     12000\n",
       "1060     10000\n",
       "Name: selling_price, Length: 1061, dtype: int64"
      ]
     },
     "execution_count": 8,
     "metadata": {},
     "output_type": "execute_result"
    }
   ],
   "source": [
    "dataset.iloc[:,-1]"
   ]
  },
  {
   "cell_type": "code",
   "execution_count": 9,
   "id": "c581bae3",
   "metadata": {},
   "outputs": [
    {
     "data": {
      "text/html": [
       "<div>\n",
       "<style scoped>\n",
       "    .dataframe tbody tr th:only-of-type {\n",
       "        vertical-align: middle;\n",
       "    }\n",
       "\n",
       "    .dataframe tbody tr th {\n",
       "        vertical-align: top;\n",
       "    }\n",
       "\n",
       "    .dataframe thead th {\n",
       "        text-align: right;\n",
       "    }\n",
       "</style>\n",
       "<table border=\"1\" class=\"dataframe\">\n",
       "  <thead>\n",
       "    <tr style=\"text-align: right;\">\n",
       "      <th></th>\n",
       "      <th>name</th>\n",
       "      <th>year</th>\n",
       "      <th>seller_type\\towner</th>\n",
       "      <th>km_driven</th>\n",
       "      <th>ex_showroom_price</th>\n",
       "    </tr>\n",
       "  </thead>\n",
       "  <tbody>\n",
       "    <tr>\n",
       "      <th>0</th>\n",
       "      <td>Royal Enfield Classic 350</td>\n",
       "      <td>2019</td>\n",
       "      <td>NaN</td>\n",
       "      <td>350</td>\n",
       "      <td>NaN</td>\n",
       "    </tr>\n",
       "    <tr>\n",
       "      <th>1</th>\n",
       "      <td>Honda Dio</td>\n",
       "      <td>2017</td>\n",
       "      <td>NaN</td>\n",
       "      <td>5650</td>\n",
       "      <td>NaN</td>\n",
       "    </tr>\n",
       "    <tr>\n",
       "      <th>2</th>\n",
       "      <td>Royal Enfield Classic Gunmetal Grey</td>\n",
       "      <td>2018</td>\n",
       "      <td>NaN</td>\n",
       "      <td>12000</td>\n",
       "      <td>148114.0</td>\n",
       "    </tr>\n",
       "    <tr>\n",
       "      <th>3</th>\n",
       "      <td>Yamaha Fazer FI V 2.0 [2016-2018]</td>\n",
       "      <td>2015</td>\n",
       "      <td>NaN</td>\n",
       "      <td>23000</td>\n",
       "      <td>89643.0</td>\n",
       "    </tr>\n",
       "    <tr>\n",
       "      <th>4</th>\n",
       "      <td>Yamaha SZ [2013-2014]</td>\n",
       "      <td>2011</td>\n",
       "      <td>NaN</td>\n",
       "      <td>21000</td>\n",
       "      <td>NaN</td>\n",
       "    </tr>\n",
       "    <tr>\n",
       "      <th>...</th>\n",
       "      <td>...</td>\n",
       "      <td>...</td>\n",
       "      <td>...</td>\n",
       "      <td>...</td>\n",
       "      <td>...</td>\n",
       "    </tr>\n",
       "    <tr>\n",
       "      <th>1056</th>\n",
       "      <td>Activa 3g</td>\n",
       "      <td>2010</td>\n",
       "      <td>NaN</td>\n",
       "      <td>500000</td>\n",
       "      <td>52000.0</td>\n",
       "    </tr>\n",
       "    <tr>\n",
       "      <th>1057</th>\n",
       "      <td>Honda CB twister</td>\n",
       "      <td>2012</td>\n",
       "      <td>NaN</td>\n",
       "      <td>33000</td>\n",
       "      <td>51000.0</td>\n",
       "    </tr>\n",
       "    <tr>\n",
       "      <th>1058</th>\n",
       "      <td>Bajaj Discover 125</td>\n",
       "      <td>2013</td>\n",
       "      <td>NaN</td>\n",
       "      <td>35000</td>\n",
       "      <td>57000.0</td>\n",
       "    </tr>\n",
       "    <tr>\n",
       "      <th>1059</th>\n",
       "      <td>Honda CB Shine</td>\n",
       "      <td>2009</td>\n",
       "      <td>NaN</td>\n",
       "      <td>53000</td>\n",
       "      <td>58000.0</td>\n",
       "    </tr>\n",
       "    <tr>\n",
       "      <th>1060</th>\n",
       "      <td>Bajaj Pulsar 150</td>\n",
       "      <td>2008</td>\n",
       "      <td>NaN</td>\n",
       "      <td>92233</td>\n",
       "      <td>75000.0</td>\n",
       "    </tr>\n",
       "  </tbody>\n",
       "</table>\n",
       "<p>1061 rows × 5 columns</p>\n",
       "</div>"
      ],
      "text/plain": [
       "                                     name  year  seller_type\\towner  \\\n",
       "0               Royal Enfield Classic 350  2019                 NaN   \n",
       "1                               Honda Dio  2017                 NaN   \n",
       "2     Royal Enfield Classic Gunmetal Grey  2018                 NaN   \n",
       "3       Yamaha Fazer FI V 2.0 [2016-2018]  2015                 NaN   \n",
       "4                   Yamaha SZ [2013-2014]  2011                 NaN   \n",
       "...                                   ...   ...                 ...   \n",
       "1056                            Activa 3g  2010                 NaN   \n",
       "1057                     Honda CB twister  2012                 NaN   \n",
       "1058                   Bajaj Discover 125  2013                 NaN   \n",
       "1059                       Honda CB Shine  2009                 NaN   \n",
       "1060                     Bajaj Pulsar 150  2008                 NaN   \n",
       "\n",
       "      km_driven  ex_showroom_price  \n",
       "0           350                NaN  \n",
       "1          5650                NaN  \n",
       "2         12000           148114.0  \n",
       "3         23000            89643.0  \n",
       "4         21000                NaN  \n",
       "...         ...                ...  \n",
       "1056     500000            52000.0  \n",
       "1057      33000            51000.0  \n",
       "1058      35000            57000.0  \n",
       "1059      53000            58000.0  \n",
       "1060      92233            75000.0  \n",
       "\n",
       "[1061 rows x 5 columns]"
      ]
     },
     "execution_count": 9,
     "metadata": {},
     "output_type": "execute_result"
    }
   ],
   "source": [
    "dataset.iloc[:,:-1]"
   ]
  },
  {
   "cell_type": "code",
   "execution_count": 10,
   "id": "7dff24a4",
   "metadata": {},
   "outputs": [],
   "source": [
    "X_train, X_test, y_train, y_test = train_test_split(dataset.iloc[:, :-1], \n",
    "                                                    dataset.iloc[:, -1], \n",
    "                                                    test_size = 0.3, \n",
    "                                                    random_state = 42)"
   ]
  },
  {
   "cell_type": "code",
   "execution_count": 11,
   "id": "3ba4f28b",
   "metadata": {},
   "outputs": [
    {
     "name": "stdout",
     "output_type": "stream",
     "text": [
      "<class 'pandas.core.frame.DataFrame'>\n",
      "Int64Index: 742 entries, 346 to 860\n",
      "Data columns (total 5 columns):\n",
      " #   Column             Non-Null Count  Dtype  \n",
      "---  ------             --------------  -----  \n",
      " 0   name               742 non-null    object \n",
      " 1   year               742 non-null    int64  \n",
      " 2   seller_type\towner  0 non-null      float64\n",
      " 3   km_driven          742 non-null    int64  \n",
      " 4   ex_showroom_price  437 non-null    float64\n",
      "dtypes: float64(2), int64(2), object(1)\n",
      "memory usage: 34.8+ KB\n"
     ]
    }
   ],
   "source": [
    "X_train.info()"
   ]
  },
  {
   "cell_type": "markdown",
   "id": "bef644db",
   "metadata": {},
   "source": [
    "## Exploratory Data Analysis\n",
    "\n",
    "Let's explore the various columns and draw information about how useful each column is. I'll also modify the test data based on training data."
   ]
  },
  {
   "cell_type": "code",
   "execution_count": 12,
   "id": "5be8bd7b",
   "metadata": {},
   "outputs": [
    {
     "data": {
      "text/plain": [
       "Index(['name', 'year', 'seller_type\\towner', 'km_driven', 'ex_showroom_price'], dtype='object')"
      ]
     },
     "execution_count": 12,
     "metadata": {},
     "output_type": "execute_result"
    }
   ],
   "source": [
    "X_train.columns"
   ]
  },
  {
   "cell_type": "markdown",
   "id": "affaf3c0",
   "metadata": {},
   "source": [
    "### Name\n",
    "\n",
    "Let's explore the various bikes in the dataset."
   ]
  },
  {
   "cell_type": "code",
   "execution_count": 13,
   "id": "df0ed8b7",
   "metadata": {},
   "outputs": [
    {
     "data": {
      "text/plain": [
       "Bajaj Pulsar 150                  34\n",
       "Royal Enfield Classic 350         19\n",
       "Honda Activa [2000-2015]          16\n",
       "Honda CB Hornet 160R              15\n",
       "Bajaj Pulsar 180                  15\n",
       "                                  ..\n",
       "TVS Jupiter                        1\n",
       "Jawa Standard                      1\n",
       "TVS Sport                          1\n",
       "Hero Honda CD100SS                 1\n",
       "Kawasaki Ninja 650 [2018-2019]     1\n",
       "Name: name, Length: 242, dtype: int64"
      ]
     },
     "execution_count": 13,
     "metadata": {},
     "output_type": "execute_result"
    }
   ],
   "source": [
    "X_train[\"name\"].value_counts()"
   ]
  },
  {
   "cell_type": "markdown",
   "id": "5c06cfba",
   "metadata": {},
   "source": [
    "As it appears, there are several bikes in the dataset, some of them with a count higher than 1.\n",
    "Sometimes the resale value of a bikes also depends on manufacturer of car and hence, I'll extract the manufacturer from this column and add it to the dataset."
   ]
  },
  {
   "cell_type": "code",
   "execution_count": 14,
   "id": "52cd2894",
   "metadata": {},
   "outputs": [],
   "source": [
    "make_train = X_train[\"name\"].str.split(\" \", expand = True)\n",
    "make_test = X_test[\"name\"].str.split(\" \", expand = True)"
   ]
  },
  {
   "cell_type": "code",
   "execution_count": 15,
   "id": "c70ae2be",
   "metadata": {},
   "outputs": [],
   "source": [
    "X_train[\"Manufacturer\"] = make_train[0]\n",
    "X_test[\"Manufacturer\"] = make_test[0]"
   ]
  },
  {
   "cell_type": "code",
   "execution_count": 16,
   "id": "c8eaaa40",
   "metadata": {},
   "outputs": [
    {
     "data": {
      "text/html": [
       "<div>\n",
       "<style scoped>\n",
       "    .dataframe tbody tr th:only-of-type {\n",
       "        vertical-align: middle;\n",
       "    }\n",
       "\n",
       "    .dataframe tbody tr th {\n",
       "        vertical-align: top;\n",
       "    }\n",
       "\n",
       "    .dataframe thead th {\n",
       "        text-align: right;\n",
       "    }\n",
       "</style>\n",
       "<table border=\"1\" class=\"dataframe\">\n",
       "  <thead>\n",
       "    <tr style=\"text-align: right;\">\n",
       "      <th></th>\n",
       "      <th>name</th>\n",
       "      <th>year</th>\n",
       "      <th>seller_type\\towner</th>\n",
       "      <th>km_driven</th>\n",
       "      <th>ex_showroom_price</th>\n",
       "      <th>Manufacturer</th>\n",
       "    </tr>\n",
       "  </thead>\n",
       "  <tbody>\n",
       "    <tr>\n",
       "      <th>346</th>\n",
       "      <td>Hero Honda Splendor Plus</td>\n",
       "      <td>2010</td>\n",
       "      <td>NaN</td>\n",
       "      <td>35700</td>\n",
       "      <td>NaN</td>\n",
       "      <td>Hero</td>\n",
       "    </tr>\n",
       "    <tr>\n",
       "      <th>5</th>\n",
       "      <td>Honda CB Twister</td>\n",
       "      <td>2010</td>\n",
       "      <td>NaN</td>\n",
       "      <td>60000</td>\n",
       "      <td>53857.0</td>\n",
       "      <td>Honda</td>\n",
       "    </tr>\n",
       "    <tr>\n",
       "      <th>310</th>\n",
       "      <td>Yamaha Fazer Dlx</td>\n",
       "      <td>2012</td>\n",
       "      <td>NaN</td>\n",
       "      <td>40000</td>\n",
       "      <td>NaN</td>\n",
       "      <td>Yamaha</td>\n",
       "    </tr>\n",
       "    <tr>\n",
       "      <th>499</th>\n",
       "      <td>Bajaj Platina 100</td>\n",
       "      <td>2013</td>\n",
       "      <td>NaN</td>\n",
       "      <td>24000</td>\n",
       "      <td>NaN</td>\n",
       "      <td>Bajaj</td>\n",
       "    </tr>\n",
       "    <tr>\n",
       "      <th>104</th>\n",
       "      <td>Royal Enfield Classic Desert Storm</td>\n",
       "      <td>2017</td>\n",
       "      <td>NaN</td>\n",
       "      <td>16500</td>\n",
       "      <td>181445.0</td>\n",
       "      <td>Royal</td>\n",
       "    </tr>\n",
       "    <tr>\n",
       "      <th>...</th>\n",
       "      <td>...</td>\n",
       "      <td>...</td>\n",
       "      <td>...</td>\n",
       "      <td>...</td>\n",
       "      <td>...</td>\n",
       "      <td>...</td>\n",
       "    </tr>\n",
       "    <tr>\n",
       "      <th>330</th>\n",
       "      <td>Suzuki Access 125</td>\n",
       "      <td>2017</td>\n",
       "      <td>NaN</td>\n",
       "      <td>15000</td>\n",
       "      <td>NaN</td>\n",
       "      <td>Suzuki</td>\n",
       "    </tr>\n",
       "    <tr>\n",
       "      <th>466</th>\n",
       "      <td>Honda CB Unicorn 150</td>\n",
       "      <td>2017</td>\n",
       "      <td>NaN</td>\n",
       "      <td>12000</td>\n",
       "      <td>74295.0</td>\n",
       "      <td>Honda</td>\n",
       "    </tr>\n",
       "    <tr>\n",
       "      <th>121</th>\n",
       "      <td>UM Renegade Commando</td>\n",
       "      <td>2018</td>\n",
       "      <td>NaN</td>\n",
       "      <td>7000</td>\n",
       "      <td>180525.0</td>\n",
       "      <td>UM</td>\n",
       "    </tr>\n",
       "    <tr>\n",
       "      <th>1044</th>\n",
       "      <td>Bajaj Pulsar 150</td>\n",
       "      <td>2010</td>\n",
       "      <td>NaN</td>\n",
       "      <td>26000</td>\n",
       "      <td>75000.0</td>\n",
       "      <td>Bajaj</td>\n",
       "    </tr>\n",
       "    <tr>\n",
       "      <th>860</th>\n",
       "      <td>Kawasaki Ninja 650 [2018-2019]</td>\n",
       "      <td>2011</td>\n",
       "      <td>NaN</td>\n",
       "      <td>12000</td>\n",
       "      <td>589000.0</td>\n",
       "      <td>Kawasaki</td>\n",
       "    </tr>\n",
       "  </tbody>\n",
       "</table>\n",
       "<p>742 rows × 6 columns</p>\n",
       "</div>"
      ],
      "text/plain": [
       "                                    name  year  seller_type\\towner  km_driven  \\\n",
       "346             Hero Honda Splendor Plus  2010                 NaN      35700   \n",
       "5                       Honda CB Twister  2010                 NaN      60000   \n",
       "310                     Yamaha Fazer Dlx  2012                 NaN      40000   \n",
       "499                    Bajaj Platina 100  2013                 NaN      24000   \n",
       "104   Royal Enfield Classic Desert Storm  2017                 NaN      16500   \n",
       "...                                  ...   ...                 ...        ...   \n",
       "330                    Suzuki Access 125  2017                 NaN      15000   \n",
       "466                 Honda CB Unicorn 150  2017                 NaN      12000   \n",
       "121                 UM Renegade Commando  2018                 NaN       7000   \n",
       "1044                    Bajaj Pulsar 150  2010                 NaN      26000   \n",
       "860       Kawasaki Ninja 650 [2018-2019]  2011                 NaN      12000   \n",
       "\n",
       "      ex_showroom_price Manufacturer  \n",
       "346                 NaN         Hero  \n",
       "5               53857.0        Honda  \n",
       "310                 NaN       Yamaha  \n",
       "499                 NaN        Bajaj  \n",
       "104            181445.0        Royal  \n",
       "...                 ...          ...  \n",
       "330                 NaN       Suzuki  \n",
       "466             74295.0        Honda  \n",
       "121            180525.0           UM  \n",
       "1044            75000.0        Bajaj  \n",
       "860            589000.0     Kawasaki  \n",
       "\n",
       "[742 rows x 6 columns]"
      ]
     },
     "execution_count": 16,
     "metadata": {},
     "output_type": "execute_result"
    }
   ],
   "source": [
    "X_train"
   ]
  },
  {
   "cell_type": "markdown",
   "id": "93b28609",
   "metadata": {},
   "source": [
    "Let's also confirm that there are no null values and identify all unique values."
   ]
  },
  {
   "cell_type": "code",
   "execution_count": 17,
   "id": "258f5191",
   "metadata": {},
   "outputs": [
    {
     "data": {
      "text/plain": [
       "Text(0, 0.5, 'Count of bikes')"
      ]
     },
     "execution_count": 17,
     "metadata": {},
     "output_type": "execute_result"
    },
    {
     "data": {
      "image/png": "[encoded data removed]",
      "text/plain": [
       "<Figure size 864x576 with 1 Axes>"
      ]
     },
     "metadata": {
      "needs_background": "light"
     },
     "output_type": "display_data"
    }
   ],
   "source": [
    "plt.figure(figsize = (12, 8))\n",
    "plot = sns.countplot(x = 'Manufacturer', data = X_train)\n",
    "plt.xticks(rotation = 90)\n",
    "for p in plot.patches:\n",
    "    plot.annotate(p.get_height(), \n",
    "                        (p.get_x() + p.get_width() / 2.0, \n",
    "                         p.get_height()), \n",
    "                        ha = 'center', \n",
    "                        va = 'center', \n",
    "                        xytext = (0, 5),\n",
    "                        textcoords = 'offset points')\n",
    "\n",
    "plt.title(\"Count of bikes based on manufacturers\")\n",
    "plt.xlabel(\"Manufacturer\")\n",
    "plt.ylabel(\"Count of bikes\")"
   ]
  },
  {
   "cell_type": "markdown",
   "id": "33b9bbc1",
   "metadata": {},
   "source": [
    "Maximum cars in the dataset are by the manufacturer **Bajaj** and there are no null values.\n",
    "\n",
    "I'll also drop the `name` column."
   ]
  },
  {
   "cell_type": "code",
   "execution_count": 18,
   "id": "c6480c52",
   "metadata": {},
   "outputs": [],
   "source": [
    "X_train.drop(\"name\", axis = 1, inplace = True)\n",
    "X_test.drop(\"name\", axis = 1, inplace = True)"
   ]
  },
  {
   "cell_type": "markdown",
   "id": "47e500d5",
   "metadata": {},
   "source": [
    "### Year\n",
    "\n",
    "Year has no significance on its own unless we try to extract how old a car is from this and see how its resale price may get affected."
   ]
  },
  {
   "cell_type": "code",
   "execution_count": 19,
   "id": "293a557b",
   "metadata": {},
   "outputs": [],
   "source": [
    "curr_time = datetime.datetime.now()\n",
    "X_train['year'] = X_train['year'].apply(lambda x : curr_time.year - x)\n",
    "X_test['year'] = X_test['year'].apply(lambda x : curr_time.year - x)"
   ]
  },
  {
   "cell_type": "markdown",
   "id": "fdbb1872",
   "metadata": {},
   "source": [
    "# owner_type\n",
    "\n",
    "All these columns are categorical columns which should be converted to dummy variables before being used."
   ]
  },
  {
   "cell_type": "markdown",
   "id": "2916fd2b",
   "metadata": {},
   "source": [
    "### km_driven\n",
    "\n",
    "`km_driven` is a numerical column with a certain range of values."
   ]
  },
  {
   "cell_type": "code",
   "execution_count": 20,
   "id": "f6df4520",
   "metadata": {},
   "outputs": [
    {
     "data": {
      "text/html": [
       "<div>\n",
       "<style scoped>\n",
       "    .dataframe tbody tr th:only-of-type {\n",
       "        vertical-align: middle;\n",
       "    }\n",
       "\n",
       "    .dataframe tbody tr th {\n",
       "        vertical-align: top;\n",
       "    }\n",
       "\n",
       "    .dataframe thead th {\n",
       "        text-align: right;\n",
       "    }\n",
       "</style>\n",
       "<table border=\"1\" class=\"dataframe\">\n",
       "  <thead>\n",
       "    <tr style=\"text-align: right;\">\n",
       "      <th></th>\n",
       "      <th>year</th>\n",
       "      <th>seller_type\\towner</th>\n",
       "      <th>km_driven</th>\n",
       "      <th>ex_showroom_price</th>\n",
       "      <th>Manufacturer</th>\n",
       "    </tr>\n",
       "  </thead>\n",
       "  <tbody>\n",
       "    <tr>\n",
       "      <th>346</th>\n",
       "      <td>12</td>\n",
       "      <td>NaN</td>\n",
       "      <td>35700</td>\n",
       "      <td>NaN</td>\n",
       "      <td>Hero</td>\n",
       "    </tr>\n",
       "    <tr>\n",
       "      <th>5</th>\n",
       "      <td>12</td>\n",
       "      <td>NaN</td>\n",
       "      <td>60000</td>\n",
       "      <td>53857.0</td>\n",
       "      <td>Honda</td>\n",
       "    </tr>\n",
       "    <tr>\n",
       "      <th>310</th>\n",
       "      <td>10</td>\n",
       "      <td>NaN</td>\n",
       "      <td>40000</td>\n",
       "      <td>NaN</td>\n",
       "      <td>Yamaha</td>\n",
       "    </tr>\n",
       "    <tr>\n",
       "      <th>499</th>\n",
       "      <td>9</td>\n",
       "      <td>NaN</td>\n",
       "      <td>24000</td>\n",
       "      <td>NaN</td>\n",
       "      <td>Bajaj</td>\n",
       "    </tr>\n",
       "    <tr>\n",
       "      <th>104</th>\n",
       "      <td>5</td>\n",
       "      <td>NaN</td>\n",
       "      <td>16500</td>\n",
       "      <td>181445.0</td>\n",
       "      <td>Royal</td>\n",
       "    </tr>\n",
       "    <tr>\n",
       "      <th>...</th>\n",
       "      <td>...</td>\n",
       "      <td>...</td>\n",
       "      <td>...</td>\n",
       "      <td>...</td>\n",
       "      <td>...</td>\n",
       "    </tr>\n",
       "    <tr>\n",
       "      <th>330</th>\n",
       "      <td>5</td>\n",
       "      <td>NaN</td>\n",
       "      <td>15000</td>\n",
       "      <td>NaN</td>\n",
       "      <td>Suzuki</td>\n",
       "    </tr>\n",
       "    <tr>\n",
       "      <th>466</th>\n",
       "      <td>5</td>\n",
       "      <td>NaN</td>\n",
       "      <td>12000</td>\n",
       "      <td>74295.0</td>\n",
       "      <td>Honda</td>\n",
       "    </tr>\n",
       "    <tr>\n",
       "      <th>121</th>\n",
       "      <td>4</td>\n",
       "      <td>NaN</td>\n",
       "      <td>7000</td>\n",
       "      <td>180525.0</td>\n",
       "      <td>UM</td>\n",
       "    </tr>\n",
       "    <tr>\n",
       "      <th>1044</th>\n",
       "      <td>12</td>\n",
       "      <td>NaN</td>\n",
       "      <td>26000</td>\n",
       "      <td>75000.0</td>\n",
       "      <td>Bajaj</td>\n",
       "    </tr>\n",
       "    <tr>\n",
       "      <th>860</th>\n",
       "      <td>11</td>\n",
       "      <td>NaN</td>\n",
       "      <td>12000</td>\n",
       "      <td>589000.0</td>\n",
       "      <td>Kawasaki</td>\n",
       "    </tr>\n",
       "  </tbody>\n",
       "</table>\n",
       "<p>742 rows × 5 columns</p>\n",
       "</div>"
      ],
      "text/plain": [
       "      year  seller_type\\towner  km_driven  ex_showroom_price Manufacturer\n",
       "346     12                 NaN      35700                NaN         Hero\n",
       "5       12                 NaN      60000            53857.0        Honda\n",
       "310     10                 NaN      40000                NaN       Yamaha\n",
       "499      9                 NaN      24000                NaN        Bajaj\n",
       "104      5                 NaN      16500           181445.0        Royal\n",
       "...    ...                 ...        ...                ...          ...\n",
       "330      5                 NaN      15000                NaN       Suzuki\n",
       "466      5                 NaN      12000            74295.0        Honda\n",
       "121      4                 NaN       7000           180525.0           UM\n",
       "1044    12                 NaN      26000            75000.0        Bajaj\n",
       "860     11                 NaN      12000           589000.0     Kawasaki\n",
       "\n",
       "[742 rows x 5 columns]"
      ]
     },
     "execution_count": 20,
     "metadata": {},
     "output_type": "execute_result"
    }
   ],
   "source": [
    "X_train"
   ]
  },
  {
   "cell_type": "code",
   "execution_count": null,
   "id": "e981ac5d",
   "metadata": {},
   "outputs": [],
   "source": []
  },
  {
   "cell_type": "code",
   "execution_count": 21,
   "id": "8e336efd",
   "metadata": {},
   "outputs": [
    {
     "data": {
      "text/plain": [
       "346     35700\n",
       "5       60000\n",
       "310     40000\n",
       "499     24000\n",
       "104     16500\n",
       "        ...  \n",
       "330     15000\n",
       "466     12000\n",
       "121      7000\n",
       "1044    26000\n",
       "860     12000\n",
       "Name: km_driven, Length: 742, dtype: int64"
      ]
     },
     "execution_count": 21,
     "metadata": {},
     "output_type": "execute_result"
    }
   ],
   "source": [
    "X_train[\"km_driven\"]"
   ]
  },
  {
   "cell_type": "markdown",
   "id": "a22d33ca",
   "metadata": {},
   "source": [
    "The data range is really varied and the high values might affect prediction, thus, it is really important that scaling be applied to this column for sure."
   ]
  },
  {
   "cell_type": "code",
   "execution_count": 22,
   "id": "31ce8817",
   "metadata": {},
   "outputs": [],
   "source": [
    "## Mileage\n",
    "\n",
    "#This column defines the mileage of the car. We need to extract the numerical value out of each string and save it."
   ]
  },
  {
   "cell_type": "code",
   "execution_count": 23,
   "id": "f91bd483",
   "metadata": {},
   "outputs": [
    {
     "name": "stdout",
     "output_type": "stream",
     "text": [
      "0\n",
      "0\n"
     ]
    }
   ],
   "source": [
    "print(sum(X_train[\"Manufacturer\"].isnull()))\n",
    "print(sum(X_test[\"Manufacturer\"].isnull()))"
   ]
  },
  {
   "cell_type": "code",
   "execution_count": 24,
   "id": "efbfdb6f",
   "metadata": {},
   "outputs": [],
   "source": [
    "X_train[\"ex_showroom_price\"].fillna(X_train[\"ex_showroom_price\"].astype(\"float64\").mean(), inplace = True)\n",
    "X_test[\"ex_showroom_price\"].fillna(X_train[\"ex_showroom_price\"].astype(\"float64\").mean(), inplace = True)"
   ]
  },
  {
   "cell_type": "code",
   "execution_count": 25,
   "id": "2952b448",
   "metadata": {},
   "outputs": [
    {
     "name": "stdout",
     "output_type": "stream",
     "text": [
      "0\n",
      "0\n"
     ]
    }
   ],
   "source": [
    "print(sum(X_train[\"ex_showroom_price\"].isnull()))\n",
    "print(sum(X_test[\"ex_showroom_price\"].isnull()))"
   ]
  },
  {
   "cell_type": "markdown",
   "id": "38017672",
   "metadata": {},
   "source": [
    "## Data Processing\n",
    "\n",
    "Now that we have worked with the training data, let's create dummy columns for categorical columns before we begin training."
   ]
  },
  {
   "cell_type": "code",
   "execution_count": 26,
   "id": "9c98775a",
   "metadata": {},
   "outputs": [],
   "source": [
    "X_train = pd.get_dummies(X_train,\n",
    "                         columns = [\"year\", \"km_driven\", \"ex_showroom_price\", \"Manufacturer\"],\n",
    "                         drop_first = True)"
   ]
  },
  {
   "cell_type": "code",
   "execution_count": 27,
   "id": "6bedfc25",
   "metadata": {},
   "outputs": [],
   "source": [
    "X_test = pd.get_dummies(X_test,\n",
    "                         columns = [\"year\", \"km_driven\", \"ex_showroom_price\", \"Manufacturer\"],\n",
    "                         drop_first = True)"
   ]
  },
  {
   "cell_type": "markdown",
   "id": "bfb03563",
   "metadata": {},
   "source": [
    "It might be possible that the dummy column creation would be different in test and train data, thus, I'd fill in all missing columns with zeros."
   ]
  },
  {
   "cell_type": "code",
   "execution_count": 28,
   "id": "505d93dd",
   "metadata": {},
   "outputs": [
    {
     "name": "stderr",
     "output_type": "stream",
     "text": [
      "/tmp/ipykernel_259892/2961525409.py:3: PerformanceWarning: DataFrame is highly fragmented.  This is usually the result of calling `frame.insert` many times, which has poor performance.  Consider joining all columns at once using pd.concat(axis=1) instead.  To get a de-fragmented frame, use `newframe = frame.copy()`\n",
      "  X_test[col] = 0\n"
     ]
    }
   ],
   "source": [
    "missing_cols = set(X_train.columns) - set(X_test.columns)\n",
    "for col in missing_cols:\n",
    "    X_test[col] = 0\n",
    "X_test = X_test[X_train.columns]"
   ]
  },
  {
   "cell_type": "code",
   "execution_count": 29,
   "id": "a924cfb2",
   "metadata": {},
   "outputs": [],
   "source": [
    "X_train = np.nan_to_num(X_train)\n",
    "X_test = np.nan_to_num(X_test)\n",
    "#y_train = np.nan_to_num(y_train)\n",
    "#y_test = np.nan_to_num(y_test)"
   ]
  },
  {
   "cell_type": "markdown",
   "id": "acd74901",
   "metadata": {},
   "source": [
    "Finally, as the last step of data processing, I'll scale the data."
   ]
  },
  {
   "cell_type": "code",
   "execution_count": 30,
   "id": "e7c54f11",
   "metadata": {},
   "outputs": [],
   "source": [
    "standardScaler = StandardScaler()\n",
    "standardScaler.fit(X_train)\n",
    "#standardScaler.fit()\n",
    "X_train = standardScaler.transform(X_train)\n",
    "X_test = standardScaler.transform(X_test)"
   ]
  },
  {
   "cell_type": "markdown",
   "id": "611625f5",
   "metadata": {},
   "source": [
    "## Training and predicting\n",
    "\n",
    "I'll create a **Linear Regression** model and a **Random Forest** model to train on the data and use it for future predictions."
   ]
  },
  {
   "cell_type": "code",
   "execution_count": null,
   "id": "89498024",
   "metadata": {},
   "outputs": [],
   "source": []
  },
  {
   "cell_type": "code",
   "execution_count": 31,
   "id": "d8ab64a6",
   "metadata": {},
   "outputs": [
    {
     "data": {
      "text/plain": [
       "array([[ 0.        , -0.29119636, -0.36918021, ..., -0.05198752,\n",
       "        -0.07362102, -0.32019682],\n",
       "       [ 0.        , -0.29119636, -0.36918021, ..., -0.05198752,\n",
       "        -0.07362102, -0.32019682],\n",
       "       [ 0.        , -0.29119636, -0.36918021, ..., -0.05198752,\n",
       "        -0.07362102,  3.12307912],\n",
       "       ...,\n",
       "       [ 0.        , -0.29119636,  2.70870424, ..., 19.23538406,\n",
       "        -0.07362102, -0.32019682],\n",
       "       [ 0.        , -0.29119636, -0.36918021, ..., -0.05198752,\n",
       "        -0.07362102, -0.32019682],\n",
       "       [ 0.        , -0.29119636, -0.36918021, ..., -0.05198752,\n",
       "        -0.07362102, -0.32019682]])"
      ]
     },
     "execution_count": 31,
     "metadata": {},
     "output_type": "execute_result"
    }
   ],
   "source": [
    "X_train"
   ]
  },
  {
   "cell_type": "markdown",
   "id": "c0c4cae8",
   "metadata": {},
   "source": [
    "We will change nan values to 0"
   ]
  },
  {
   "cell_type": "code",
   "execution_count": 32,
   "id": "de2b7901",
   "metadata": {},
   "outputs": [],
   "source": [
    "#X_train[np.isnan(X_train)] = 0"
   ]
  },
  {
   "cell_type": "code",
   "execution_count": 33,
   "id": "613fee24",
   "metadata": {},
   "outputs": [],
   "source": [
    "#np.all(np.isinf(X_train))"
   ]
  },
  {
   "cell_type": "code",
   "execution_count": 34,
   "id": "13ad21b7",
   "metadata": {},
   "outputs": [
    {
     "data": {
      "text/plain": [
       "array([[ 0.        , -0.29119636, -0.36918021, ..., -0.05198752,\n",
       "        -0.07362102, -0.32019682],\n",
       "       [ 0.        , -0.29119636, -0.36918021, ..., -0.05198752,\n",
       "        -0.07362102, -0.32019682],\n",
       "       [ 0.        , -0.29119636, -0.36918021, ..., -0.05198752,\n",
       "        -0.07362102,  3.12307912],\n",
       "       ...,\n",
       "       [ 0.        , -0.29119636,  2.70870424, ..., 19.23538406,\n",
       "        -0.07362102, -0.32019682],\n",
       "       [ 0.        , -0.29119636, -0.36918021, ..., -0.05198752,\n",
       "        -0.07362102, -0.32019682],\n",
       "       [ 0.        , -0.29119636, -0.36918021, ..., -0.05198752,\n",
       "        -0.07362102, -0.32019682]])"
      ]
     },
     "execution_count": 34,
     "metadata": {},
     "output_type": "execute_result"
    }
   ],
   "source": [
    "#X_train = np.nan_to_num(X_train)\n",
    "X_train"
   ]
  },
  {
   "cell_type": "code",
   "execution_count": 35,
   "id": "53901c31",
   "metadata": {},
   "outputs": [
    {
     "data": {
      "text/plain": [
       "-1.748714360565484e+27"
      ]
     },
     "execution_count": 35,
     "metadata": {},
     "output_type": "execute_result"
    }
   ],
   "source": [
    "linearRegression = LinearRegression()\n",
    "linearRegression.fit(X_train, y_train)\n",
    "y_pred = linearRegression.predict(X_test)\n",
    "r2_score(y_test, y_pred)"
   ]
  },
  {
   "cell_type": "markdown",
   "id": "658a3fbc",
   "metadata": {},
   "source": [
    "The **linear Regression** model performed the best with a R2 score of **-1.748714360565484e+27**."
   ]
  },
  {
   "cell_type": "code",
   "execution_count": 36,
   "id": "33a6a1ed",
   "metadata": {},
   "outputs": [
    {
     "data": {
      "text/html": [
       "<div>\n",
       "<style scoped>\n",
       "    .dataframe tbody tr th:only-of-type {\n",
       "        vertical-align: middle;\n",
       "    }\n",
       "\n",
       "    .dataframe tbody tr th {\n",
       "        vertical-align: top;\n",
       "    }\n",
       "\n",
       "    .dataframe thead th {\n",
       "        text-align: right;\n",
       "    }\n",
       "</style>\n",
       "<table border=\"1\" class=\"dataframe\">\n",
       "  <thead>\n",
       "    <tr style=\"text-align: right;\">\n",
       "      <th></th>\n",
       "      <th>Actual</th>\n",
       "      <th>Predicted</th>\n",
       "    </tr>\n",
       "  </thead>\n",
       "  <tbody>\n",
       "    <tr>\n",
       "      <th>31</th>\n",
       "      <td>38000</td>\n",
       "      <td>3.951250e+04</td>\n",
       "    </tr>\n",
       "    <tr>\n",
       "      <th>413</th>\n",
       "      <td>16000</td>\n",
       "      <td>2.457362e+04</td>\n",
       "    </tr>\n",
       "    <tr>\n",
       "      <th>535</th>\n",
       "      <td>12000</td>\n",
       "      <td>1.149362e+04</td>\n",
       "    </tr>\n",
       "    <tr>\n",
       "      <th>743</th>\n",
       "      <td>27000</td>\n",
       "      <td>-1.529446e+19</td>\n",
       "    </tr>\n",
       "    <tr>\n",
       "      <th>792</th>\n",
       "      <td>100000</td>\n",
       "      <td>8.747762e+04</td>\n",
       "    </tr>\n",
       "    <tr>\n",
       "      <th>...</th>\n",
       "      <td>...</td>\n",
       "      <td>...</td>\n",
       "    </tr>\n",
       "    <tr>\n",
       "      <th>591</th>\n",
       "      <td>30000</td>\n",
       "      <td>2.617362e+04</td>\n",
       "    </tr>\n",
       "    <tr>\n",
       "      <th>875</th>\n",
       "      <td>75000</td>\n",
       "      <td>-8.191818e+18</td>\n",
       "    </tr>\n",
       "    <tr>\n",
       "      <th>570</th>\n",
       "      <td>35000</td>\n",
       "      <td>-1.975950e+04</td>\n",
       "    </tr>\n",
       "    <tr>\n",
       "      <th>877</th>\n",
       "      <td>35000</td>\n",
       "      <td>5.407762e+04</td>\n",
       "    </tr>\n",
       "    <tr>\n",
       "      <th>479</th>\n",
       "      <td>35000</td>\n",
       "      <td>5.657362e+04</td>\n",
       "    </tr>\n",
       "  </tbody>\n",
       "</table>\n",
       "<p>319 rows × 2 columns</p>\n",
       "</div>"
      ],
      "text/plain": [
       "     Actual     Predicted\n",
       "31    38000  3.951250e+04\n",
       "413   16000  2.457362e+04\n",
       "535   12000  1.149362e+04\n",
       "743   27000 -1.529446e+19\n",
       "792  100000  8.747762e+04\n",
       "..      ...           ...\n",
       "591   30000  2.617362e+04\n",
       "875   75000 -8.191818e+18\n",
       "570   35000 -1.975950e+04\n",
       "877   35000  5.407762e+04\n",
       "479   35000  5.657362e+04\n",
       "\n",
       "[319 rows x 2 columns]"
      ]
     },
     "execution_count": 36,
     "metadata": {},
     "output_type": "execute_result"
    }
   ],
   "source": [
    "bike_lr = pd.DataFrame({'Actual': y_test, 'Predicted': y_pred})\n",
    "bike_lr"
   ]
  },
  {
   "cell_type": "markdown",
   "id": "7278f223",
   "metadata": {},
   "source": [
    "# using random forest"
   ]
  },
  {
   "cell_type": "code",
   "execution_count": 37,
   "id": "f3971c14",
   "metadata": {},
   "outputs": [
    {
     "data": {
      "text/plain": [
       "0.5878448746493192"
      ]
     },
     "execution_count": 37,
     "metadata": {},
     "output_type": "execute_result"
    }
   ],
   "source": [
    "rf = RandomForestRegressor(n_estimators = 100)\n",
    "rf.fit(X_train, y_train)\n",
    "y_pred = rf.predict(X_test)\n",
    "r2_score(y_test, y_pred)"
   ]
  },
  {
   "cell_type": "markdown",
   "id": "6493a677",
   "metadata": {},
   "source": [
    "The **Random Forest** model performed the best with a R2 score of **0.58**."
   ]
  },
  {
   "cell_type": "code",
   "execution_count": 38,
   "id": "a3dee17c",
   "metadata": {},
   "outputs": [
    {
     "data": {
      "text/html": [
       "<div>\n",
       "<style scoped>\n",
       "    .dataframe tbody tr th:only-of-type {\n",
       "        vertical-align: middle;\n",
       "    }\n",
       "\n",
       "    .dataframe tbody tr th {\n",
       "        vertical-align: top;\n",
       "    }\n",
       "\n",
       "    .dataframe thead th {\n",
       "        text-align: right;\n",
       "    }\n",
       "</style>\n",
       "<table border=\"1\" class=\"dataframe\">\n",
       "  <thead>\n",
       "    <tr style=\"text-align: right;\">\n",
       "      <th></th>\n",
       "      <th>Actual</th>\n",
       "      <th>Predicted</th>\n",
       "    </tr>\n",
       "  </thead>\n",
       "  <tbody>\n",
       "    <tr>\n",
       "      <th>31</th>\n",
       "      <td>38000</td>\n",
       "      <td>41065.000000</td>\n",
       "    </tr>\n",
       "    <tr>\n",
       "      <th>413</th>\n",
       "      <td>16000</td>\n",
       "      <td>23340.000000</td>\n",
       "    </tr>\n",
       "    <tr>\n",
       "      <th>535</th>\n",
       "      <td>12000</td>\n",
       "      <td>17059.777778</td>\n",
       "    </tr>\n",
       "    <tr>\n",
       "      <th>743</th>\n",
       "      <td>27000</td>\n",
       "      <td>25930.000000</td>\n",
       "    </tr>\n",
       "    <tr>\n",
       "      <th>792</th>\n",
       "      <td>100000</td>\n",
       "      <td>79770.000000</td>\n",
       "    </tr>\n",
       "    <tr>\n",
       "      <th>...</th>\n",
       "      <td>...</td>\n",
       "      <td>...</td>\n",
       "    </tr>\n",
       "    <tr>\n",
       "      <th>591</th>\n",
       "      <td>30000</td>\n",
       "      <td>36324.000000</td>\n",
       "    </tr>\n",
       "    <tr>\n",
       "      <th>875</th>\n",
       "      <td>75000</td>\n",
       "      <td>33260.000000</td>\n",
       "    </tr>\n",
       "    <tr>\n",
       "      <th>570</th>\n",
       "      <td>35000</td>\n",
       "      <td>29810.000000</td>\n",
       "    </tr>\n",
       "    <tr>\n",
       "      <th>877</th>\n",
       "      <td>35000</td>\n",
       "      <td>38421.000000</td>\n",
       "    </tr>\n",
       "    <tr>\n",
       "      <th>479</th>\n",
       "      <td>35000</td>\n",
       "      <td>38421.000000</td>\n",
       "    </tr>\n",
       "  </tbody>\n",
       "</table>\n",
       "<p>319 rows × 2 columns</p>\n",
       "</div>"
      ],
      "text/plain": [
       "     Actual     Predicted\n",
       "31    38000  41065.000000\n",
       "413   16000  23340.000000\n",
       "535   12000  17059.777778\n",
       "743   27000  25930.000000\n",
       "792  100000  79770.000000\n",
       "..      ...           ...\n",
       "591   30000  36324.000000\n",
       "875   75000  33260.000000\n",
       "570   35000  29810.000000\n",
       "877   35000  38421.000000\n",
       "479   35000  38421.000000\n",
       "\n",
       "[319 rows x 2 columns]"
      ]
     },
     "execution_count": 38,
     "metadata": {},
     "output_type": "execute_result"
    }
   ],
   "source": [
    "bike_rf = pd.DataFrame({'Actual': y_test, 'Predicted': y_pred})\n",
    "bike_rf"
   ]
  },
  {
   "cell_type": "code",
   "execution_count": null,
   "id": "f6c07956",
   "metadata": {},
   "outputs": [],
   "source": []
  }
 ],
 "metadata": {
  "kernelspec": {
   "display_name": "Python 3 (ipykernel)",
   "language": "python",
   "name": "python3"
  },
  "language_info": {
   "codemirror_mode": {
    "name": "ipython",
    "version": 3
   },
   "file_extension": ".py",
   "mimetype": "text/x-python",
   "name": "python",
   "nbconvert_exporter": "python",
   "pygments_lexer": "ipython3",
   "version": "3.9.7"
  }
 },
 "nbformat": 4,
 "nbformat_minor": 5
}
